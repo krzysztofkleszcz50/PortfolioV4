{
 "cells": [
  {
   "cell_type": "markdown",
   "metadata": {
    "editable": true,
    "slideshow": {
     "slide_type": "slide"
    },
    "tags": []
   },
   "source": [
    "## Introduction 💡\n",
    "Hi, nice to see you here! Let's dive into the world of irises!\n",
    "\n",
    "🌸 **Discover the beauty of Iris species through this dataset that includes details on three distinct types:** 🌸\n",
    "\n",
    "* Iris setosa\n",
    "* Iris versicolor\n",
    "* Iris virginica."
   ]
  },
  {
   "cell_type": "markdown",
   "metadata": {
    "editable": true,
    "slideshow": {
     "slide_type": "slide"
    },
    "tags": []
   },
   "source": [
    "This dataset shows precise measurements of four key features: \n",
    "\n",
    "* Sepal Length (cm)\n",
    "* Sepal Width (cm)\n",
    "* Petal Length (cm)\n",
    "* Petal Width (cm)is! 🔎"
   ]
  },
  {
   "cell_type": "markdown",
   "metadata": {
    "editable": true,
    "slideshow": {
     "slide_type": "slide"
    },
    "tags": []
   },
   "source": [
    "Each row represents an individual flower, with measurement values provided in centimeters.\n",
    "In the following study, we will attempt to identify relationships between the different classes of irises.\n",
    "Are you ready?\n",
    "Let's begin the analysis! 🔎"
   ]
  },
  {
   "cell_type": "markdown",
   "metadata": {
    "editable": true,
    "slideshow": {
     "slide_type": "slide"
    },
    "tags": []
   },
   "source": [
    "Just in case, please see table of contents:\n",
    "\n",
    "1. General Data Overview 📊\n",
    "2. Analysis of Missing Values 📈\n",
    "3. Single Variable Analysis 🔍\n",
    "4. Data Transformation 🔄\n",
    "5. Analysis of Relationships Between Data 🔍\n",
    "6. Outlier Analysis 📊\n",
    "7. Analysis Summary 📋"
   ]
  },
  {
   "cell_type": "code",
   "execution_count": 32,
   "metadata": {
    "editable": true,
    "slideshow": {
     "slide_type": "skip"
    },
    "tags": []
   },
   "outputs": [],
   "source": [
    "import pandas as pd\n",
    "import matplotlib.pyplot as plt\n",
    "import seaborn as sns\n",
    "import numpy as np"
   ]
  },
  {
   "cell_type": "markdown",
   "metadata": {
    "editable": true,
    "slideshow": {
     "slide_type": "slide"
    },
    "tags": []
   },
   "source": [
    "## 1. General Data Overview 📊\n",
    "* We simplify the names to make them easier to use. \n",
    "* Displaying 10 sample rows to provide a general overview of the data. \n",
    "* All data, except for the class column, are numerical."
   ]
  },
  {
   "cell_type": "code",
   "execution_count": 28,
   "metadata": {
    "editable": true,
    "slideshow": {
     "slide_type": "fragment"
    },
    "tags": []
   },
   "outputs": [
    {
     "data": {
      "text/html": [
       "<div>\n",
       "<style scoped>\n",
       "    .dataframe tbody tr th:only-of-type {\n",
       "        vertical-align: middle;\n",
       "    }\n",
       "\n",
       "    .dataframe tbody tr th {\n",
       "        vertical-align: top;\n",
       "    }\n",
       "\n",
       "    .dataframe thead th {\n",
       "        text-align: right;\n",
       "    }\n",
       "</style>\n",
       "<table border=\"1\" class=\"dataframe\">\n",
       "  <thead>\n",
       "    <tr style=\"text-align: right;\">\n",
       "      <th></th>\n",
       "      <th>długość kielicha</th>\n",
       "      <th>szerokość kielicha</th>\n",
       "      <th>długość płatka</th>\n",
       "      <th>szerokość płatka</th>\n",
       "      <th>klasa</th>\n",
       "    </tr>\n",
       "  </thead>\n",
       "  <tbody>\n",
       "    <tr>\n",
       "      <th>66</th>\n",
       "      <td>5.6</td>\n",
       "      <td>3.0</td>\n",
       "      <td>4.5</td>\n",
       "      <td>1.5</td>\n",
       "      <td>Iris-versicolor</td>\n",
       "    </tr>\n",
       "    <tr>\n",
       "      <th>8</th>\n",
       "      <td>4.4</td>\n",
       "      <td>2.9</td>\n",
       "      <td>1.4</td>\n",
       "      <td>0.2</td>\n",
       "      <td>Iris-setosa</td>\n",
       "    </tr>\n",
       "    <tr>\n",
       "      <th>6</th>\n",
       "      <td>4.6</td>\n",
       "      <td>3.4</td>\n",
       "      <td>1.4</td>\n",
       "      <td>0.3</td>\n",
       "      <td>Iris-setosa</td>\n",
       "    </tr>\n",
       "    <tr>\n",
       "      <th>11</th>\n",
       "      <td>4.8</td>\n",
       "      <td>3.4</td>\n",
       "      <td>1.6</td>\n",
       "      <td>0.2</td>\n",
       "      <td>Iris-setosa</td>\n",
       "    </tr>\n",
       "    <tr>\n",
       "      <th>12</th>\n",
       "      <td>4.8</td>\n",
       "      <td>3.0</td>\n",
       "      <td>1.4</td>\n",
       "      <td>0.1</td>\n",
       "      <td>Iris-setosa</td>\n",
       "    </tr>\n",
       "    <tr>\n",
       "      <th>31</th>\n",
       "      <td>5.4</td>\n",
       "      <td>3.4</td>\n",
       "      <td>1.5</td>\n",
       "      <td>0.4</td>\n",
       "      <td>Iris-setosa</td>\n",
       "    </tr>\n",
       "    <tr>\n",
       "      <th>44</th>\n",
       "      <td>5.1</td>\n",
       "      <td>3.8</td>\n",
       "      <td>1.9</td>\n",
       "      <td>0.4</td>\n",
       "      <td>Iris-setosa</td>\n",
       "    </tr>\n",
       "    <tr>\n",
       "      <th>19</th>\n",
       "      <td>5.1</td>\n",
       "      <td>3.8</td>\n",
       "      <td>1.5</td>\n",
       "      <td>0.3</td>\n",
       "      <td>Iris-setosa</td>\n",
       "    </tr>\n",
       "    <tr>\n",
       "      <th>43</th>\n",
       "      <td>5.0</td>\n",
       "      <td>3.5</td>\n",
       "      <td>1.6</td>\n",
       "      <td>0.6</td>\n",
       "      <td>Iris-setosa</td>\n",
       "    </tr>\n",
       "    <tr>\n",
       "      <th>85</th>\n",
       "      <td>6.0</td>\n",
       "      <td>3.4</td>\n",
       "      <td>4.5</td>\n",
       "      <td>1.6</td>\n",
       "      <td>Iris-versicolor</td>\n",
       "    </tr>\n",
       "  </tbody>\n",
       "</table>\n",
       "</div>"
      ],
      "text/plain": [
       "    długość kielicha  szerokość kielicha  długość płatka  szerokość płatka  \\\n",
       "66               5.6                 3.0             4.5               1.5   \n",
       "8                4.4                 2.9             1.4               0.2   \n",
       "6                4.6                 3.4             1.4               0.3   \n",
       "11               4.8                 3.4             1.6               0.2   \n",
       "12               4.8                 3.0             1.4               0.1   \n",
       "31               5.4                 3.4             1.5               0.4   \n",
       "44               5.1                 3.8             1.9               0.4   \n",
       "19               5.1                 3.8             1.5               0.3   \n",
       "43               5.0                 3.5             1.6               0.6   \n",
       "85               6.0                 3.4             4.5               1.6   \n",
       "\n",
       "              klasa  \n",
       "66  Iris-versicolor  \n",
       "8       Iris-setosa  \n",
       "6       Iris-setosa  \n",
       "11      Iris-setosa  \n",
       "12      Iris-setosa  \n",
       "31      Iris-setosa  \n",
       "44      Iris-setosa  \n",
       "19      Iris-setosa  \n",
       "43      Iris-setosa  \n",
       "85  Iris-versicolor  "
      ]
     },
     "execution_count": 28,
     "metadata": {},
     "output_type": "execute_result"
    }
   ],
   "source": [
    "# We load the data and use a separator to correctly read it into the table\n",
    "df = pd.read_csv('25__iris.csv', sep=\",\")\n",
    "# We change the column names to Polish - they are shorter and easier to understand for a Polish client.\n",
    "df.columns = ('długość kielicha', 'szerokość kielicha', 'długość płatka', 'szerokość płatka', 'klasa')\n",
    "#Wyświetlamy próbkę danych, by zobaczyć z jakimi danymi mamy do czynienia.\n",
    "df.sample(10)"
   ]
  },
  {
   "cell_type": "markdown",
   "metadata": {
    "editable": true,
    "slideshow": {
     "slide_type": "slide"
    },
    "tags": []
   },
   "source": [
    "* We can observe that there are 150 records in each column, and the data is diverse.\n"
   ]
  },
  {
   "cell_type": "code",
   "execution_count": 5,
   "metadata": {
    "editable": true,
    "slideshow": {
     "slide_type": "fragment"
    },
    "tags": []
   },
   "outputs": [
    {
     "data": {
      "text/html": [
       "<div>\n",
       "<style scoped>\n",
       "    .dataframe tbody tr th:only-of-type {\n",
       "        vertical-align: middle;\n",
       "    }\n",
       "\n",
       "    .dataframe tbody tr th {\n",
       "        vertical-align: top;\n",
       "    }\n",
       "\n",
       "    .dataframe thead th {\n",
       "        text-align: right;\n",
       "    }\n",
       "</style>\n",
       "<table border=\"1\" class=\"dataframe\">\n",
       "  <thead>\n",
       "    <tr style=\"text-align: right;\">\n",
       "      <th></th>\n",
       "      <th>długość kielicha</th>\n",
       "      <th>szerokość kielicha</th>\n",
       "      <th>długość płatka</th>\n",
       "      <th>szerokość płatka</th>\n",
       "    </tr>\n",
       "  </thead>\n",
       "  <tbody>\n",
       "    <tr>\n",
       "      <th>count</th>\n",
       "      <td>150.000000</td>\n",
       "      <td>150.000000</td>\n",
       "      <td>150.000000</td>\n",
       "      <td>150.000000</td>\n",
       "    </tr>\n",
       "    <tr>\n",
       "      <th>mean</th>\n",
       "      <td>5.843333</td>\n",
       "      <td>3.054000</td>\n",
       "      <td>3.758667</td>\n",
       "      <td>1.198667</td>\n",
       "    </tr>\n",
       "    <tr>\n",
       "      <th>std</th>\n",
       "      <td>0.828066</td>\n",
       "      <td>0.433594</td>\n",
       "      <td>1.764420</td>\n",
       "      <td>0.763161</td>\n",
       "    </tr>\n",
       "    <tr>\n",
       "      <th>min</th>\n",
       "      <td>4.300000</td>\n",
       "      <td>2.000000</td>\n",
       "      <td>1.000000</td>\n",
       "      <td>0.100000</td>\n",
       "    </tr>\n",
       "    <tr>\n",
       "      <th>25%</th>\n",
       "      <td>5.100000</td>\n",
       "      <td>2.800000</td>\n",
       "      <td>1.600000</td>\n",
       "      <td>0.300000</td>\n",
       "    </tr>\n",
       "    <tr>\n",
       "      <th>50%</th>\n",
       "      <td>5.800000</td>\n",
       "      <td>3.000000</td>\n",
       "      <td>4.350000</td>\n",
       "      <td>1.300000</td>\n",
       "    </tr>\n",
       "    <tr>\n",
       "      <th>75%</th>\n",
       "      <td>6.400000</td>\n",
       "      <td>3.300000</td>\n",
       "      <td>5.100000</td>\n",
       "      <td>1.800000</td>\n",
       "    </tr>\n",
       "    <tr>\n",
       "      <th>max</th>\n",
       "      <td>7.900000</td>\n",
       "      <td>4.400000</td>\n",
       "      <td>6.900000</td>\n",
       "      <td>2.500000</td>\n",
       "    </tr>\n",
       "  </tbody>\n",
       "</table>\n",
       "</div>"
      ],
      "text/plain": [
       "       długość kielicha  szerokość kielicha  długość płatka  szerokość płatka\n",
       "count        150.000000          150.000000      150.000000        150.000000\n",
       "mean           5.843333            3.054000        3.758667          1.198667\n",
       "std            0.828066            0.433594        1.764420          0.763161\n",
       "min            4.300000            2.000000        1.000000          0.100000\n",
       "25%            5.100000            2.800000        1.600000          0.300000\n",
       "50%            5.800000            3.000000        4.350000          1.300000\n",
       "75%            6.400000            3.300000        5.100000          1.800000\n",
       "max            7.900000            4.400000        6.900000          2.500000"
      ]
     },
     "execution_count": 5,
     "metadata": {},
     "output_type": "execute_result"
    }
   ],
   "source": [
    "df.describe()"
   ]
  },
  {
   "cell_type": "markdown",
   "metadata": {
    "editable": true,
    "slideshow": {
     "slide_type": "slide"
    },
    "tags": []
   },
   "source": [
    "* The values in the first four columns are quite diverse. \n",
    "* In the last column, we have only three distinct classes. \n",
    "* This column can be used for grouping the data."
   ]
  },
  {
   "cell_type": "code",
   "execution_count": 6,
   "metadata": {
    "editable": true,
    "slideshow": {
     "slide_type": "skip"
    },
    "tags": []
   },
   "outputs": [
    {
     "data": {
      "text/plain": [
       "długość kielicha      35\n",
       "szerokość kielicha    23\n",
       "długość płatka        43\n",
       "szerokość płatka      22\n",
       "klasa                  3\n",
       "dtype: int64"
      ]
     },
     "execution_count": 6,
     "metadata": {},
     "output_type": "execute_result"
    }
   ],
   "source": [
    "df.nunique()"
   ]
  },
  {
   "cell_type": "markdown",
   "metadata": {
    "editable": true,
    "slideshow": {
     "slide_type": "slide"
    },
    "tags": []
   },
   "source": [
    "The dataset is very balanced - each class has exactly 50 records. 📊"
   ]
  },
  {
   "cell_type": "code",
   "execution_count": 7,
   "metadata": {
    "editable": true,
    "slideshow": {
     "slide_type": "skip"
    },
    "tags": []
   },
   "outputs": [
    {
     "data": {
      "text/plain": [
       "klasa\n",
       "Iris-setosa        50\n",
       "Iris-versicolor    50\n",
       "Iris-virginica     50\n",
       "Name: count, dtype: int64"
      ]
     },
     "execution_count": 7,
     "metadata": {},
     "output_type": "execute_result"
    }
   ],
   "source": [
    "df[\"klasa\"].value_counts()"
   ]
  },
  {
   "cell_type": "markdown",
   "metadata": {
    "editable": true,
    "slideshow": {
     "slide_type": "slide"
    },
    "tags": []
   },
   "source": [
    "## 2. Analysis of Missing Values 📈\n",
    "We have no missing values."
   ]
  },
  {
   "cell_type": "code",
   "execution_count": 8,
   "metadata": {
    "editable": true,
    "slideshow": {
     "slide_type": "skip"
    },
    "tags": []
   },
   "outputs": [
    {
     "data": {
      "text/plain": [
       "długość kielicha      0\n",
       "szerokość kielicha    0\n",
       "długość płatka        0\n",
       "szerokość płatka      0\n",
       "klasa                 0\n",
       "dtype: int64"
      ]
     },
     "execution_count": 8,
     "metadata": {},
     "output_type": "execute_result"
    }
   ],
   "source": [
    "df.isnull().sum()"
   ]
  },
  {
   "cell_type": "markdown",
   "metadata": {
    "editable": true,
    "slideshow": {
     "slide_type": "slide"
    },
    "tags": []
   },
   "source": [
    "## 3. Single Variable Analysis 🔍 \n",
    "We can observe that the length and width of the sepal are generally larger than the length and width of the petal."
   ]
  },
  {
   "cell_type": "code",
   "execution_count": 50,
   "metadata": {
    "editable": true,
    "slideshow": {
     "slide_type": "slide"
    },
    "tags": []
   },
   "outputs": [
    {
     "data": {
      "image/png": "[encoded data removed]",
      "text/plain": [
       "<Figure size 1200x800 with 4 Axes>"
      ]
     },
     "metadata": {},
     "output_type": "display_data"
    }
   ],
   "source": [
    "columns = ['długość płatka', 'szerokość płatka', 'długość kielicha', 'szerokość kielicha']\n",
    "\n",
    "fig, axs = plt.subplots(2, 2, figsize=(12, 8)) \n",
    "\n",
    "for ax, col in zip(axs.flatten(), columns):\n",
    "    ax.hist(df[col], bins=20, color='skyblue', edgecolor='black')\n",
    "    ax.set_title(f'{col}')\n",
    "    ax.set_xlabel(f'{col} (cm)')\n",
    "    ax.set_ylabel('Frequency')\n",
    "\n",
    "fig.tight_layout()\n",
    "\n",
    "plt.show()\n",
    "\n"
   ]
  },
  {
   "cell_type": "markdown",
   "metadata": {
    "editable": true,
    "slideshow": {
     "slide_type": "slide"
    },
    "tags": []
   },
   "source": [
    "## 4. Data Transformation 🔄 \n",
    "Not necessary, as we have no missing values."
   ]
  },
  {
   "cell_type": "markdown",
   "metadata": {
    "editable": true,
    "slideshow": {
     "slide_type": "slide"
    },
    "tags": []
   },
   "source": [
    "## 5. Analysis of Relationships Between Data 🔍\n",
    "\n",
    "* The values for Iris-versicolor and Iris-virginica are quite similar when comparing sepal length and sepal width (slightly larger for Iris-virginica).\n",
    "* Iris-setosa stands out in terms of sepal length and width—it has the largest width and the smallest length.\n",
    "* When comparing petal length and width, the data for each group is very diverse, with each group having unique values.\n",
    "* Iris-setosa has the smallest petal length but is characterized by a larger sepal width.\n",
    "* Iris-versicolor has similar lengths to Iris-virginica."
   ]
  },
  {
   "cell_type": "code",
   "execution_count": 10,
   "metadata": {
    "editable": true,
    "slideshow": {
     "slide_type": "slide"
    },
    "tags": []
   },
   "outputs": [
    {
     "data": {
      "text/plain": [
       "<Axes: xlabel='szerokość kielicha', ylabel='długość kielicha'>"
      ]
     },
     "execution_count": 10,
     "metadata": {},
     "output_type": "execute_result"
    },
    {
     "data": {
      "image/png": "[encoded data removed]",
      "text/plain": [
       "<Figure size 640x480 with 1 Axes>"
      ]
     },
     "metadata": {},
     "output_type": "display_data"
    }
   ],
   "source": [
    "scatter = sns.scatterplot(x='szerokość kielicha', y='długość kielicha', hue='klasa', data=df) \n",
    "scatter"
   ]
  },
  {
   "cell_type": "code",
   "execution_count": 11,
   "metadata": {
    "editable": true,
    "slideshow": {
     "slide_type": "slide"
    },
    "tags": []
   },
   "outputs": [
    {
     "data": {
      "text/plain": [
       "<Axes: xlabel='szerokość płatka', ylabel='długość płatka'>"
      ]
     },
     "execution_count": 11,
     "metadata": {},
     "output_type": "execute_result"
    },
    {
     "data": {
      "image/png": "[encoded data removed]",
      "text/plain": [
       "<Figure size 640x480 with 1 Axes>"
      ]
     },
     "metadata": {},
     "output_type": "display_data"
    }
   ],
   "source": [
    "scatter2 = sns.scatterplot(x='szerokość płatka', y='długość płatka', hue='klasa', data=df) \n",
    "scatter2"
   ]
  },
  {
   "cell_type": "markdown",
   "metadata": {
    "editable": true,
    "slideshow": {
     "slide_type": "slide"
    },
    "tags": []
   },
   "source": [
    "* We can observe a strong correlation between petal length and petal width. \n",
    "* On the other hand, sepal width and sepal length are the least correlated."
   ]
  },
  {
   "cell_type": "code",
   "execution_count": 13,
   "metadata": {
    "editable": true,
    "slideshow": {
     "slide_type": "fragment"
    },
    "tags": []
   },
   "outputs": [
    {
     "data": {
      "text/html": [
       "<style type=\"text/css\">\n",
       "#T_82e49_row0_col0, #T_82e49_row1_col1, #T_82e49_row2_col2, #T_82e49_row3_col3 {\n",
       "  background-color: #008000;\n",
       "  color: #f1f1f1;\n",
       "}\n",
       "#T_82e49_row0_col1 {\n",
       "  background-color: #b7dab7;\n",
       "  color: #000000;\n",
       "}\n",
       "#T_82e49_row0_col2 {\n",
       "  background-color: #158a15;\n",
       "  color: #f1f1f1;\n",
       "}\n",
       "#T_82e49_row0_col3 {\n",
       "  background-color: #1f8f1f;\n",
       "  color: #f1f1f1;\n",
       "}\n",
       "#T_82e49_row1_col0, #T_82e49_row1_col2, #T_82e49_row1_col3, #T_82e49_row2_col1 {\n",
       "  background-color: #ebf3eb;\n",
       "  color: #000000;\n",
       "}\n",
       "#T_82e49_row2_col0 {\n",
       "  background-color: #1b8d1b;\n",
       "  color: #f1f1f1;\n",
       "}\n",
       "#T_82e49_row2_col3, #T_82e49_row3_col2 {\n",
       "  background-color: #068306;\n",
       "  color: #f1f1f1;\n",
       "}\n",
       "#T_82e49_row3_col0 {\n",
       "  background-color: #279327;\n",
       "  color: #f1f1f1;\n",
       "}\n",
       "#T_82e49_row3_col1 {\n",
       "  background-color: #e0eee0;\n",
       "  color: #000000;\n",
       "}\n",
       "</style>\n",
       "<table id=\"T_82e49\">\n",
       "  <thead>\n",
       "    <tr>\n",
       "      <th class=\"blank level0\" >&nbsp;</th>\n",
       "      <th id=\"T_82e49_level0_col0\" class=\"col_heading level0 col0\" >długość kielicha</th>\n",
       "      <th id=\"T_82e49_level0_col1\" class=\"col_heading level0 col1\" >szerokość kielicha</th>\n",
       "      <th id=\"T_82e49_level0_col2\" class=\"col_heading level0 col2\" >długość płatka</th>\n",
       "      <th id=\"T_82e49_level0_col3\" class=\"col_heading level0 col3\" >szerokość płatka</th>\n",
       "    </tr>\n",
       "  </thead>\n",
       "  <tbody>\n",
       "    <tr>\n",
       "      <th id=\"T_82e49_level0_row0\" class=\"row_heading level0 row0\" >długość kielicha</th>\n",
       "      <td id=\"T_82e49_row0_col0\" class=\"data row0 col0\" >1.000000</td>\n",
       "      <td id=\"T_82e49_row0_col1\" class=\"data row0 col1\" >-0.109369</td>\n",
       "      <td id=\"T_82e49_row0_col2\" class=\"data row0 col2\" >0.871754</td>\n",
       "      <td id=\"T_82e49_row0_col3\" class=\"data row0 col3\" >0.817954</td>\n",
       "    </tr>\n",
       "    <tr>\n",
       "      <th id=\"T_82e49_level0_row1\" class=\"row_heading level0 row1\" >szerokość kielicha</th>\n",
       "      <td id=\"T_82e49_row1_col0\" class=\"data row1 col0\" >-0.109369</td>\n",
       "      <td id=\"T_82e49_row1_col1\" class=\"data row1 col1\" >1.000000</td>\n",
       "      <td id=\"T_82e49_row1_col2\" class=\"data row1 col2\" >-0.420516</td>\n",
       "      <td id=\"T_82e49_row1_col3\" class=\"data row1 col3\" >-0.356544</td>\n",
       "    </tr>\n",
       "    <tr>\n",
       "      <th id=\"T_82e49_level0_row2\" class=\"row_heading level0 row2\" >długość płatka</th>\n",
       "      <td id=\"T_82e49_row2_col0\" class=\"data row2 col0\" >0.871754</td>\n",
       "      <td id=\"T_82e49_row2_col1\" class=\"data row2 col1\" >-0.420516</td>\n",
       "      <td id=\"T_82e49_row2_col2\" class=\"data row2 col2\" >1.000000</td>\n",
       "      <td id=\"T_82e49_row2_col3\" class=\"data row2 col3\" >0.962757</td>\n",
       "    </tr>\n",
       "    <tr>\n",
       "      <th id=\"T_82e49_level0_row3\" class=\"row_heading level0 row3\" >szerokość płatka</th>\n",
       "      <td id=\"T_82e49_row3_col0\" class=\"data row3 col0\" >0.817954</td>\n",
       "      <td id=\"T_82e49_row3_col1\" class=\"data row3 col1\" >-0.356544</td>\n",
       "      <td id=\"T_82e49_row3_col2\" class=\"data row3 col2\" >0.962757</td>\n",
       "      <td id=\"T_82e49_row3_col3\" class=\"data row3 col3\" >1.000000</td>\n",
       "    </tr>\n",
       "  </tbody>\n",
       "</table>\n"
      ],
      "text/plain": [
       "<pandas.io.formats.style.Styler at 0x29a73cf6e50>"
      ]
     },
     "execution_count": 13,
     "metadata": {},
     "output_type": "execute_result"
    }
   ],
   "source": [
    "matrix = df[[\"długość kielicha\", \"szerokość kielicha\", \"długość płatka\", \"szerokość płatka\"]].corr()\n",
    "\n",
    "colormap = sns.light_palette(\"green\", as_cmap=True)\n",
    "\n",
    "matrix_colored = matrix.style.background_gradient(cmap=colormap)\n",
    "\n",
    "matrix_colored"
   ]
  },
  {
   "cell_type": "markdown",
   "metadata": {
    "editable": true,
    "slideshow": {
     "slide_type": "slide"
    },
    "tags": []
   },
   "source": [
    "## 6. Outlier Analysis 📊\n",
    "\n",
    "* We can observe that Iris virginica has the most distant outliers.\n",
    "* Significant outliers are also present in Iris-setosa."
   ]
  },
  {
   "cell_type": "code",
   "execution_count": 59,
   "metadata": {
    "editable": true,
    "scrolled": true,
    "slideshow": {
     "slide_type": "slide"
    },
    "tags": []
   },
   "outputs": [
    {
     "name": "stderr",
     "output_type": "stream",
     "text": [
      "C:\\Users\\krzys\\AppData\\Local\\Temp\\ipykernel_7996\\604034570.py:4: FutureWarning: \n",
      "\n",
      "Passing `palette` without assigning `hue` is deprecated and will be removed in v0.14.0. Assign the `x` variable to `hue` and set `legend=False` for the same effect.\n",
      "\n",
      "  sns.boxplot(data=df, x='klasa', y=col, ax=ax, palette='Set2')\n",
      "2024-12-24 11:04:38.924 Thread 'MainThread': missing ScriptRunContext! This warning can be ignored when running in bare mode.\n",
      "2024-12-24 11:04:39.661 Thread 'MainThread': missing ScriptRunContext! This warning can be ignored when running in bare mode.\n",
      "2024-12-24 11:04:39.662 Thread 'MainThread': missing ScriptRunContext! This warning can be ignored when running in bare mode.\n",
      "C:\\Users\\krzys\\AppData\\Local\\Temp\\ipykernel_7996\\604034570.py:4: FutureWarning: \n",
      "\n",
      "Passing `palette` without assigning `hue` is deprecated and will be removed in v0.14.0. Assign the `x` variable to `hue` and set `legend=False` for the same effect.\n",
      "\n",
      "  sns.boxplot(data=df, x='klasa', y=col, ax=ax, palette='Set2')\n",
      "2024-12-24 11:04:39.955 Thread 'MainThread': missing ScriptRunContext! This warning can be ignored when running in bare mode.\n",
      "2024-12-24 11:04:40.645 Thread 'MainThread': missing ScriptRunContext! This warning can be ignored when running in bare mode.\n",
      "2024-12-24 11:04:40.646 Thread 'MainThread': missing ScriptRunContext! This warning can be ignored when running in bare mode.\n",
      "C:\\Users\\krzys\\AppData\\Local\\Temp\\ipykernel_7996\\604034570.py:4: FutureWarning: \n",
      "\n",
      "Passing `palette` without assigning `hue` is deprecated and will be removed in v0.14.0. Assign the `x` variable to `hue` and set `legend=False` for the same effect.\n",
      "\n",
      "  sns.boxplot(data=df, x='klasa', y=col, ax=ax, palette='Set2')\n",
      "2024-12-24 11:04:40.740 Thread 'MainThread': missing ScriptRunContext! This warning can be ignored when running in bare mode.\n",
      "2024-12-24 11:04:41.454 Thread 'MainThread': missing ScriptRunContext! This warning can be ignored when running in bare mode.\n",
      "2024-12-24 11:04:41.455 Thread 'MainThread': missing ScriptRunContext! This warning can be ignored when running in bare mode.\n",
      "C:\\Users\\krzys\\AppData\\Local\\Temp\\ipykernel_7996\\604034570.py:4: FutureWarning: \n",
      "\n",
      "Passing `palette` without assigning `hue` is deprecated and will be removed in v0.14.0. Assign the `x` variable to `hue` and set `legend=False` for the same effect.\n",
      "\n",
      "  sns.boxplot(data=df, x='klasa', y=col, ax=ax, palette='Set2')\n",
      "2024-12-24 11:04:41.548 Thread 'MainThread': missing ScriptRunContext! This warning can be ignored when running in bare mode.\n",
      "2024-12-24 11:04:42.237 Thread 'MainThread': missing ScriptRunContext! This warning can be ignored when running in bare mode.\n",
      "2024-12-24 11:04:42.238 Thread 'MainThread': missing ScriptRunContext! This warning can be ignored when running in bare mode.\n"
     ]
    }
   ],
   "source": [
    "columns = ['długość płatka', 'szerokość płatka', 'długość kielicha', 'szerokość kielicha']\n",
    "for col in columns:\n",
    "    fig, ax = plt.subplots(figsize=(18, 10))\n",
    "    sns.boxplot(data=df, x='klasa', y=col, ax=ax, palette='Set2')\n",
    "    ax.set_title(f'{col}', fontsize=20)\n",
    "    ax.set_xlabel('Class', fontsize=16)\n",
    "    ax.set_ylabel(f'{col} (cm)', fontsize=16)\n",
    "    st.pyplot(fig)"
   ]
  },
  {
   "cell_type": "markdown",
   "metadata": {
    "editable": true,
    "slideshow": {
     "slide_type": "slide"
    },
    "tags": []
   },
   "source": [
    "## Analysis Summary\n",
    "* The data provided for analysis is of very high quality - no missing values and well diversified.\n",
    "* By excluding data transformation, we preserved their original quality.\n",
    "* Sepal length and width are generally larger than petal length and width.\n",
    "* When comparing petal length and width, the data for each group is very diverse, and each group has unique values."
   ]
  },
  {
   "cell_type": "markdown",
   "metadata": {
    "editable": true,
    "slideshow": {
     "slide_type": "slide"
    },
    "tags": []
   },
   "source": [
    "## Thank you for your attention! Your interest and time mean a lot."
   ]
  },
  {
   "cell_type": "code",
   "execution_count": 49,
   "metadata": {
    "editable": true,
    "slideshow": {
     "slide_type": "skip"
    },
    "tags": []
   },
   "outputs": [
    {
     "name": "stderr",
     "output_type": "stream",
     "text": [
      "[NbConvertApp] Converting notebook iris.ipynb to slides\n",
      "[NbConvertApp] WARNING | Alternative text is missing on 3 image(s).\n",
      "[NbConvertApp] Writing 450143 bytes to iris.slides.html\n"
     ]
    }
   ],
   "source": [
    "!jupyter nbconvert iris.ipynb --to slides --no-input --no-prompt"
   ]
  },
  {
   "cell_type": "code",
   "execution_count": null,
   "metadata": {
    "editable": true,
    "slideshow": {
     "slide_type": ""
    },
    "tags": []
   },
   "outputs": [],
   "source": []
  }
 ],
 "metadata": {
  "kernelspec": {
   "display_name": "Python 3 (ipykernel)",
   "language": "python",
   "name": "python3"
  },
  "language_info": {
   "codemirror_mode": {
    "name": "ipython",
    "version": 3
   },
   "file_extension": ".py",
   "mimetype": "text/x-python",
   "name": "python",
   "nbconvert_exporter": "python",
   "pygments_lexer": "ipython3",
   "version": "3.11.9"
  },
  "toc": {
   "base_numbering": 1
  }
 },
 "nbformat": 4,
 "nbformat_minor": 4
}
